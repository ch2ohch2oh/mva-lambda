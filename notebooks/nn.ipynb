{
 "cells": [
  {
   "cell_type": "code",
   "execution_count": 2,
   "metadata": {},
   "outputs": [
    {
     "name": "stdout",
     "output_type": "stream",
     "text": [
      "Welcome to JupyROOT 6.18/00\n"
     ]
    }
   ],
   "source": [
    "from root_pandas import read_root\n",
    "import pdg\n",
    "import matplotlib.pyplot as plt"
   ]
  },
  {
   "cell_type": "code",
   "execution_count": 3,
   "metadata": {},
   "outputs": [
    {
     "name": "stderr",
     "output_type": "stream",
     "text": [
      "Using TensorFlow backend.\n"
     ]
    }
   ],
   "source": [
    "import keras\n",
    "from keras.models import Model, Sequential\n",
    "from keras.layers import Dense, Activation, Input, Add"
   ]
  },
  {
   "cell_type": "code",
   "execution_count": 4,
   "metadata": {},
   "outputs": [],
   "source": [
    "from sklearn.model_selection import train_test_split\n",
    "from sklearn.metrics import auc, roc_auc_score, roc_curve"
   ]
  },
  {
   "cell_type": "code",
   "execution_count": 6,
   "metadata": {},
   "outputs": [],
   "source": [
    "data = read_root('../mc/exp55_run50_train.root', 'lambda')"
   ]
  },
  {
   "cell_type": "code",
   "execution_count": 7,
   "metadata": {},
   "outputs": [
    {
     "data": {
      "text/plain": [
       "Index(['__experiment__', '__run__', '__event__', '__candidate__',\n",
       "       '__ncandidates__', '__weight__', 'M', 'p', 'chiProb', 'cosa', 'cosaXY',\n",
       "       'dr', 'dz', 'distance', 'significanceOfDistance', 'min_dr',\n",
       "       'goodBelleLambda', 'isSignal', 'genMotherPDG', 'IPX', 'IPY', 'IPZ',\n",
       "       'p_pid_ppi', 'p_pid_pk', 'p_pid_kpi', 'p_dr', 'p_dz', 'p_p',\n",
       "       'p_isSignal', 'p_genMotherPDG', 'pi_pid_ppi', 'pi_pid_pk', 'pi_pid_kpi',\n",
       "       'pi_dr', 'pi_dz', 'pi_p', 'pi_isSignal', 'pi_genMotherPDG'],\n",
       "      dtype='object')"
      ]
     },
     "execution_count": 7,
     "metadata": {},
     "output_type": "execute_result"
    }
   ],
   "source": [
    "data.columns"
   ]
  },
  {
   "cell_type": "code",
   "execution_count": 8,
   "metadata": {},
   "outputs": [
    {
     "data": {
      "text/html": [
       "<div>\n",
       "<style scoped>\n",
       "    .dataframe tbody tr th:only-of-type {\n",
       "        vertical-align: middle;\n",
       "    }\n",
       "\n",
       "    .dataframe tbody tr th {\n",
       "        vertical-align: top;\n",
       "    }\n",
       "\n",
       "    .dataframe thead th {\n",
       "        text-align: right;\n",
       "    }\n",
       "</style>\n",
       "<table border=\"1\" class=\"dataframe\">\n",
       "  <thead>\n",
       "    <tr style=\"text-align: right;\">\n",
       "      <th></th>\n",
       "      <th>__experiment__</th>\n",
       "      <th>__run__</th>\n",
       "      <th>__event__</th>\n",
       "      <th>__candidate__</th>\n",
       "      <th>__ncandidates__</th>\n",
       "      <th>__weight__</th>\n",
       "      <th>M</th>\n",
       "      <th>p</th>\n",
       "      <th>chiProb</th>\n",
       "      <th>cosa</th>\n",
       "      <th>...</th>\n",
       "      <th>p_isSignal</th>\n",
       "      <th>p_genMotherPDG</th>\n",
       "      <th>pi_pid_ppi</th>\n",
       "      <th>pi_pid_pk</th>\n",
       "      <th>pi_pid_kpi</th>\n",
       "      <th>pi_dr</th>\n",
       "      <th>pi_dz</th>\n",
       "      <th>pi_p</th>\n",
       "      <th>pi_isSignal</th>\n",
       "      <th>pi_genMotherPDG</th>\n",
       "    </tr>\n",
       "  </thead>\n",
       "  <tbody>\n",
       "    <tr>\n",
       "      <th>0</th>\n",
       "      <td>55</td>\n",
       "      <td>7</td>\n",
       "      <td>8</td>\n",
       "      <td>0</td>\n",
       "      <td>1</td>\n",
       "      <td>1.0</td>\n",
       "      <td>1.165105</td>\n",
       "      <td>0.490118</td>\n",
       "      <td>0.000000e+00</td>\n",
       "      <td>-0.947015</td>\n",
       "      <td>...</td>\n",
       "      <td>0.0</td>\n",
       "      <td>113.0</td>\n",
       "      <td>0.001</td>\n",
       "      <td>0.001000</td>\n",
       "      <td>0.001</td>\n",
       "      <td>18.428707</td>\n",
       "      <td>86.226101</td>\n",
       "      <td>0.215878</td>\n",
       "      <td>1.0</td>\n",
       "      <td>-321.0</td>\n",
       "    </tr>\n",
       "    <tr>\n",
       "      <th>1</th>\n",
       "      <td>55</td>\n",
       "      <td>7</td>\n",
       "      <td>17</td>\n",
       "      <td>0</td>\n",
       "      <td>1</td>\n",
       "      <td>1.0</td>\n",
       "      <td>1.127725</td>\n",
       "      <td>0.394250</td>\n",
       "      <td>0.000000e+00</td>\n",
       "      <td>0.846915</td>\n",
       "      <td>...</td>\n",
       "      <td>0.0</td>\n",
       "      <td>421.0</td>\n",
       "      <td>0.001</td>\n",
       "      <td>0.001000</td>\n",
       "      <td>0.001</td>\n",
       "      <td>30.917240</td>\n",
       "      <td>16.672331</td>\n",
       "      <td>0.153996</td>\n",
       "      <td>0.0</td>\n",
       "      <td>-211.0</td>\n",
       "    </tr>\n",
       "    <tr>\n",
       "      <th>2</th>\n",
       "      <td>55</td>\n",
       "      <td>7</td>\n",
       "      <td>16</td>\n",
       "      <td>0</td>\n",
       "      <td>1</td>\n",
       "      <td>1.0</td>\n",
       "      <td>1.117808</td>\n",
       "      <td>0.847351</td>\n",
       "      <td>0.000000e+00</td>\n",
       "      <td>-0.993323</td>\n",
       "      <td>...</td>\n",
       "      <td>0.0</td>\n",
       "      <td>-411.0</td>\n",
       "      <td>0.001</td>\n",
       "      <td>0.001000</td>\n",
       "      <td>0.001</td>\n",
       "      <td>27.059559</td>\n",
       "      <td>33.095623</td>\n",
       "      <td>0.186119</td>\n",
       "      <td>0.0</td>\n",
       "      <td>113.0</td>\n",
       "    </tr>\n",
       "    <tr>\n",
       "      <th>3</th>\n",
       "      <td>55</td>\n",
       "      <td>7</td>\n",
       "      <td>25</td>\n",
       "      <td>0</td>\n",
       "      <td>1</td>\n",
       "      <td>1.0</td>\n",
       "      <td>1.117568</td>\n",
       "      <td>0.864626</td>\n",
       "      <td>2.421974e-01</td>\n",
       "      <td>0.995793</td>\n",
       "      <td>...</td>\n",
       "      <td>1.0</td>\n",
       "      <td>-3122.0</td>\n",
       "      <td>0.001</td>\n",
       "      <td>0.018339</td>\n",
       "      <td>0.001</td>\n",
       "      <td>0.605767</td>\n",
       "      <td>1.253609</td>\n",
       "      <td>0.079810</td>\n",
       "      <td>1.0</td>\n",
       "      <td>-3122.0</td>\n",
       "    </tr>\n",
       "    <tr>\n",
       "      <th>4</th>\n",
       "      <td>55</td>\n",
       "      <td>7</td>\n",
       "      <td>44</td>\n",
       "      <td>0</td>\n",
       "      <td>2</td>\n",
       "      <td>1.0</td>\n",
       "      <td>1.110521</td>\n",
       "      <td>1.165721</td>\n",
       "      <td>1.490779e-18</td>\n",
       "      <td>-0.017120</td>\n",
       "      <td>...</td>\n",
       "      <td>0.0</td>\n",
       "      <td>310.0</td>\n",
       "      <td>0.001</td>\n",
       "      <td>0.001000</td>\n",
       "      <td>0.001</td>\n",
       "      <td>1.732089</td>\n",
       "      <td>-0.183578</td>\n",
       "      <td>0.265781</td>\n",
       "      <td>0.0</td>\n",
       "      <td>211.0</td>\n",
       "    </tr>\n",
       "  </tbody>\n",
       "</table>\n",
       "<p>5 rows × 38 columns</p>\n",
       "</div>"
      ],
      "text/plain": [
       "   __experiment__  __run__  __event__  __candidate__  __ncandidates__  \\\n",
       "0              55        7          8              0                1   \n",
       "1              55        7         17              0                1   \n",
       "2              55        7         16              0                1   \n",
       "3              55        7         25              0                1   \n",
       "4              55        7         44              0                2   \n",
       "\n",
       "   __weight__         M         p       chiProb      cosa  ...  p_isSignal  \\\n",
       "0         1.0  1.165105  0.490118  0.000000e+00 -0.947015  ...         0.0   \n",
       "1         1.0  1.127725  0.394250  0.000000e+00  0.846915  ...         0.0   \n",
       "2         1.0  1.117808  0.847351  0.000000e+00 -0.993323  ...         0.0   \n",
       "3         1.0  1.117568  0.864626  2.421974e-01  0.995793  ...         1.0   \n",
       "4         1.0  1.110521  1.165721  1.490779e-18 -0.017120  ...         0.0   \n",
       "\n",
       "   p_genMotherPDG  pi_pid_ppi  pi_pid_pk  pi_pid_kpi      pi_dr      pi_dz  \\\n",
       "0           113.0       0.001   0.001000       0.001  18.428707  86.226101   \n",
       "1           421.0       0.001   0.001000       0.001  30.917240  16.672331   \n",
       "2          -411.0       0.001   0.001000       0.001  27.059559  33.095623   \n",
       "3         -3122.0       0.001   0.018339       0.001   0.605767   1.253609   \n",
       "4           310.0       0.001   0.001000       0.001   1.732089  -0.183578   \n",
       "\n",
       "       pi_p  pi_isSignal  pi_genMotherPDG  \n",
       "0  0.215878          1.0           -321.0  \n",
       "1  0.153996          0.0           -211.0  \n",
       "2  0.186119          0.0            113.0  \n",
       "3  0.079810          1.0          -3122.0  \n",
       "4  0.265781          0.0            211.0  \n",
       "\n",
       "[5 rows x 38 columns]"
      ]
     },
     "execution_count": 8,
     "metadata": {},
     "output_type": "execute_result"
    }
   ],
   "source": [
    "data.head()"
   ]
  },
  {
   "cell_type": "code",
   "execution_count": 9,
   "metadata": {},
   "outputs": [],
   "source": [
    "train, test, _, _ = train_test_split(data, data.isSignal, test_size = 0.5, stratify = data.isSignal)"
   ]
  },
  {
   "cell_type": "code",
   "execution_count": 10,
   "metadata": {},
   "outputs": [],
   "source": [
    "features = ['chiProb', 'cosaXY', 'dr', 'dz', 'min_dr', 'distance',\n",
    "            'p_pid_pk', 'p_pid_ppi', \n",
    "            'pi_pid_kpi', 'pi_pid_ppi',\n",
    "            'p_p', 'pi_p']"
   ]
  },
  {
   "cell_type": "code",
   "execution_count": 11,
   "metadata": {},
   "outputs": [
    {
     "name": "stderr",
     "output_type": "stream",
     "text": [
      "WARNING: Logging before flag parsing goes to stderr.\n",
      "W0212 02:17:31.769278 140568413423360 deprecation_wrapper.py:119] From /cvmfs/belle.cern.ch/sl6/externals/v01-08-00/Linux_x86_64/common/lib/python3.6/site-packages/keras/backend/tensorflow_backend.py:74: The name tf.get_default_graph is deprecated. Please use tf.compat.v1.get_default_graph instead.\n",
      "\n",
      "W0212 02:17:31.866835 140568413423360 deprecation_wrapper.py:119] From /cvmfs/belle.cern.ch/sl6/externals/v01-08-00/Linux_x86_64/common/lib/python3.6/site-packages/keras/backend/tensorflow_backend.py:517: The name tf.placeholder is deprecated. Please use tf.compat.v1.placeholder instead.\n",
      "\n",
      "W0212 02:17:31.875398 140568413423360 deprecation_wrapper.py:119] From /cvmfs/belle.cern.ch/sl6/externals/v01-08-00/Linux_x86_64/common/lib/python3.6/site-packages/keras/backend/tensorflow_backend.py:4138: The name tf.random_uniform is deprecated. Please use tf.random.uniform instead.\n",
      "\n"
     ]
    }
   ],
   "source": [
    "model = Sequential()\n",
    "model.add(Dense(16, input_shape = (len(features), ),activation = 'relu'))\n",
    "model.add(Dense(16, activation = 'relu'))\n",
    "model.add(Dense(8, activation = 'relu'))\n",
    "model.add(Dense(1, activation = 'sigmoid'))"
   ]
  },
  {
   "cell_type": "code",
   "execution_count": 12,
   "metadata": {},
   "outputs": [
    {
     "name": "stderr",
     "output_type": "stream",
     "text": [
      "W0212 02:17:34.990282 140568413423360 deprecation_wrapper.py:119] From /cvmfs/belle.cern.ch/sl6/externals/v01-08-00/Linux_x86_64/common/lib/python3.6/site-packages/keras/optimizers.py:790: The name tf.train.Optimizer is deprecated. Please use tf.compat.v1.train.Optimizer instead.\n",
      "\n",
      "W0212 02:17:35.023096 140568413423360 deprecation_wrapper.py:119] From /cvmfs/belle.cern.ch/sl6/externals/v01-08-00/Linux_x86_64/common/lib/python3.6/site-packages/keras/backend/tensorflow_backend.py:3376: The name tf.log is deprecated. Please use tf.math.log instead.\n",
      "\n",
      "W0212 02:17:35.031370 140568413423360 deprecation.py:323] From /cvmfs/belle.cern.ch/sl6/externals/v01-08-00/Linux_x86_64/common/lib/python3.6/site-packages/tensorflow/python/ops/nn_impl.py:180: add_dispatch_support.<locals>.wrapper (from tensorflow.python.ops.array_ops) is deprecated and will be removed in a future version.\n",
      "Instructions for updating:\n",
      "Use tf.where in 2.0, which has the same broadcast rule as np.where\n"
     ]
    }
   ],
   "source": [
    "model.compile(optimizer = 'rmsprop', loss = 'binary_crossentropy', metrics = ['acc'])"
   ]
  },
  {
   "cell_type": "code",
   "execution_count": 14,
   "metadata": {
    "scrolled": true
   },
   "outputs": [
    {
     "name": "stdout",
     "output_type": "stream",
     "text": [
      "Train on 218708 samples, validate on 218709 samples\n",
      "Epoch 1/10\n",
      "218708/218708 [==============================] - 9s 42us/step - loss: 0.0942 - acc: 0.9703 - val_loss: 0.1002 - val_acc: 0.9683\n",
      "Epoch 2/10\n",
      "218708/218708 [==============================] - 9s 43us/step - loss: 0.0934 - acc: 0.9704 - val_loss: 0.0899 - val_acc: 0.9716\n",
      "Epoch 3/10\n",
      "218708/218708 [==============================] - 8s 38us/step - loss: 0.0923 - acc: 0.9703 - val_loss: 0.0898 - val_acc: 0.9715\n",
      "Epoch 4/10\n",
      "218708/218708 [==============================] - 8s 39us/step - loss: 0.0917 - acc: 0.9704 - val_loss: 0.1042 - val_acc: 0.9670\n",
      "Epoch 5/10\n",
      "218708/218708 [==============================] - 9s 42us/step - loss: 0.0912 - acc: 0.9707 - val_loss: 0.0917 - val_acc: 0.9710\n",
      "Epoch 6/10\n",
      "218708/218708 [==============================] - 11s 50us/step - loss: 0.0908 - acc: 0.9709 - val_loss: 0.0887 - val_acc: 0.9718\n",
      "Epoch 7/10\n",
      "218708/218708 [==============================] - 8s 36us/step - loss: 0.0903 - acc: 0.9710 - val_loss: 0.1021 - val_acc: 0.9681\n",
      "Epoch 8/10\n",
      "218708/218708 [==============================] - 8s 37us/step - loss: 0.0899 - acc: 0.9711 - val_loss: 0.0889 - val_acc: 0.9719\n",
      "Epoch 9/10\n",
      "218708/218708 [==============================] - 9s 39us/step - loss: 0.0895 - acc: 0.9714 - val_loss: 0.0924 - val_acc: 0.9706\n",
      "Epoch 10/10\n",
      "218708/218708 [==============================] - 9s 40us/step - loss: 0.0892 - acc: 0.9712 - val_loss: 0.0876 - val_acc: 0.9721\n"
     ]
    },
    {
     "data": {
      "text/plain": [
       "<keras.callbacks.History at 0x7fd86fc254a8>"
      ]
     },
     "execution_count": 14,
     "metadata": {},
     "output_type": "execute_result"
    }
   ],
   "source": [
    "model.fit(train[features], train.isSignal,\n",
    "          batch_size = 256, epochs = 10,\n",
    "          validation_data = (test[features], test.isSignal))"
   ]
  },
  {
   "cell_type": "code",
   "execution_count": 71,
   "metadata": {},
   "outputs": [],
   "source": [
    "def build_res_model(input_shape):\n",
    "    X_input = Input(input_shape)\n",
    "    X = X_input\n",
    "    X = Dense(16, input_shape = input_shape,activation = 'relu')(X)\n",
    "    X = Dense(8, activation = 'relu')(X)\n",
    "    X = Add()([X, X_input])\n",
    "    X = Dense(1, activation = 'sigmoid')(X)\n",
    "    model = Model(inputs = X_input, outputs = X)\n",
    "    return model"
   ]
  },
  {
   "cell_type": "code",
   "execution_count": 72,
   "metadata": {},
   "outputs": [],
   "source": [
    "res_model = build_res_model((8,))"
   ]
  },
  {
   "cell_type": "code",
   "execution_count": 73,
   "metadata": {},
   "outputs": [
    {
     "name": "stdout",
     "output_type": "stream",
     "text": [
      "__________________________________________________________________________________________________\n",
      "Layer (type)                    Output Shape         Param #     Connected to                     \n",
      "==================================================================================================\n",
      "input_5 (InputLayer)            (None, 8)            0                                            \n",
      "__________________________________________________________________________________________________\n",
      "dense_21 (Dense)                (None, 16)           144         input_5[0][0]                    \n",
      "__________________________________________________________________________________________________\n",
      "dense_22 (Dense)                (None, 8)            136         dense_21[0][0]                   \n",
      "__________________________________________________________________________________________________\n",
      "add_5 (Add)                     (None, 8)            0           dense_22[0][0]                   \n",
      "                                                                 input_5[0][0]                    \n",
      "__________________________________________________________________________________________________\n",
      "dense_23 (Dense)                (None, 1)            9           add_5[0][0]                      \n",
      "==================================================================================================\n",
      "Total params: 289\n",
      "Trainable params: 289\n",
      "Non-trainable params: 0\n",
      "__________________________________________________________________________________________________\n"
     ]
    }
   ],
   "source": [
    "res_model.summary()"
   ]
  },
  {
   "cell_type": "code",
   "execution_count": 74,
   "metadata": {},
   "outputs": [],
   "source": [
    "res_model.compile(optimizer = 'rmsprop', loss = 'binary_crossentropy', metrics = ['acc'])"
   ]
  },
  {
   "cell_type": "code",
   "execution_count": 75,
   "metadata": {
    "scrolled": true
   },
   "outputs": [
    {
     "ename": "ValueError",
     "evalue": "Error when checking input: expected input_5 to have shape (8,) but got array with shape (12,)",
     "output_type": "error",
     "traceback": [
      "\u001b[0;31m---------------------------------------------------------------------------\u001b[0m",
      "\u001b[0;31mValueError\u001b[0m                                Traceback (most recent call last)",
      "\u001b[0;32m<ipython-input-75-34700efb8669>\u001b[0m in \u001b[0;36m<module>\u001b[0;34m\u001b[0m\n\u001b[1;32m      1\u001b[0m res_model.fit(train[features], train.isSignal,\n\u001b[1;32m      2\u001b[0m           \u001b[0mbatch_size\u001b[0m \u001b[0;34m=\u001b[0m \u001b[0;36m256\u001b[0m\u001b[0;34m,\u001b[0m \u001b[0mepochs\u001b[0m \u001b[0;34m=\u001b[0m \u001b[0;36m50\u001b[0m\u001b[0;34m,\u001b[0m\u001b[0;34m\u001b[0m\u001b[0;34m\u001b[0m\u001b[0m\n\u001b[0;32m----> 3\u001b[0;31m           validation_data = (test[features], test.isSignal))\n\u001b[0m",
      "\u001b[0;32m/cvmfs/belle.cern.ch/sl6/externals/v01-08-00/Linux_x86_64/common/lib/python3.6/site-packages/keras/engine/training.py\u001b[0m in \u001b[0;36mfit\u001b[0;34m(self, x, y, batch_size, epochs, verbose, callbacks, validation_split, validation_data, shuffle, class_weight, sample_weight, initial_epoch, steps_per_epoch, validation_steps, **kwargs)\u001b[0m\n\u001b[1;32m    950\u001b[0m             \u001b[0msample_weight\u001b[0m\u001b[0;34m=\u001b[0m\u001b[0msample_weight\u001b[0m\u001b[0;34m,\u001b[0m\u001b[0;34m\u001b[0m\u001b[0;34m\u001b[0m\u001b[0m\n\u001b[1;32m    951\u001b[0m             \u001b[0mclass_weight\u001b[0m\u001b[0;34m=\u001b[0m\u001b[0mclass_weight\u001b[0m\u001b[0;34m,\u001b[0m\u001b[0;34m\u001b[0m\u001b[0;34m\u001b[0m\u001b[0m\n\u001b[0;32m--> 952\u001b[0;31m             batch_size=batch_size)\n\u001b[0m\u001b[1;32m    953\u001b[0m         \u001b[0;31m# Prepare validation data.\u001b[0m\u001b[0;34m\u001b[0m\u001b[0;34m\u001b[0m\u001b[0;34m\u001b[0m\u001b[0m\n\u001b[1;32m    954\u001b[0m         \u001b[0mdo_validation\u001b[0m \u001b[0;34m=\u001b[0m \u001b[0;32mFalse\u001b[0m\u001b[0;34m\u001b[0m\u001b[0;34m\u001b[0m\u001b[0m\n",
      "\u001b[0;32m/cvmfs/belle.cern.ch/sl6/externals/v01-08-00/Linux_x86_64/common/lib/python3.6/site-packages/keras/engine/training.py\u001b[0m in \u001b[0;36m_standardize_user_data\u001b[0;34m(self, x, y, sample_weight, class_weight, check_array_lengths, batch_size)\u001b[0m\n\u001b[1;32m    749\u001b[0m             \u001b[0mfeed_input_shapes\u001b[0m\u001b[0;34m,\u001b[0m\u001b[0;34m\u001b[0m\u001b[0;34m\u001b[0m\u001b[0m\n\u001b[1;32m    750\u001b[0m             \u001b[0mcheck_batch_axis\u001b[0m\u001b[0;34m=\u001b[0m\u001b[0;32mFalse\u001b[0m\u001b[0;34m,\u001b[0m  \u001b[0;31m# Don't enforce the batch size.\u001b[0m\u001b[0;34m\u001b[0m\u001b[0;34m\u001b[0m\u001b[0m\n\u001b[0;32m--> 751\u001b[0;31m             exception_prefix='input')\n\u001b[0m\u001b[1;32m    752\u001b[0m \u001b[0;34m\u001b[0m\u001b[0m\n\u001b[1;32m    753\u001b[0m         \u001b[0;32mif\u001b[0m \u001b[0my\u001b[0m \u001b[0;32mis\u001b[0m \u001b[0;32mnot\u001b[0m \u001b[0;32mNone\u001b[0m\u001b[0;34m:\u001b[0m\u001b[0;34m\u001b[0m\u001b[0;34m\u001b[0m\u001b[0m\n",
      "\u001b[0;32m/cvmfs/belle.cern.ch/sl6/externals/v01-08-00/Linux_x86_64/common/lib/python3.6/site-packages/keras/engine/training_utils.py\u001b[0m in \u001b[0;36mstandardize_input_data\u001b[0;34m(data, names, shapes, check_batch_axis, exception_prefix)\u001b[0m\n\u001b[1;32m    136\u001b[0m                             \u001b[0;34m': expected '\u001b[0m \u001b[0;34m+\u001b[0m \u001b[0mnames\u001b[0m\u001b[0;34m[\u001b[0m\u001b[0mi\u001b[0m\u001b[0;34m]\u001b[0m \u001b[0;34m+\u001b[0m \u001b[0;34m' to have shape '\u001b[0m \u001b[0;34m+\u001b[0m\u001b[0;34m\u001b[0m\u001b[0;34m\u001b[0m\u001b[0m\n\u001b[1;32m    137\u001b[0m                             \u001b[0mstr\u001b[0m\u001b[0;34m(\u001b[0m\u001b[0mshape\u001b[0m\u001b[0;34m)\u001b[0m \u001b[0;34m+\u001b[0m \u001b[0;34m' but got array with shape '\u001b[0m \u001b[0;34m+\u001b[0m\u001b[0;34m\u001b[0m\u001b[0;34m\u001b[0m\u001b[0m\n\u001b[0;32m--> 138\u001b[0;31m                             str(data_shape))\n\u001b[0m\u001b[1;32m    139\u001b[0m     \u001b[0;32mreturn\u001b[0m \u001b[0mdata\u001b[0m\u001b[0;34m\u001b[0m\u001b[0;34m\u001b[0m\u001b[0m\n\u001b[1;32m    140\u001b[0m \u001b[0;34m\u001b[0m\u001b[0m\n",
      "\u001b[0;31mValueError\u001b[0m: Error when checking input: expected input_5 to have shape (8,) but got array with shape (12,)"
     ]
    }
   ],
   "source": [
    "res_model.fit(train[features], train.isSignal,\n",
    "          batch_size = 256, epochs = 50,\n",
    "          validation_data = (test[features], test.isSignal))"
   ]
  },
  {
   "cell_type": "code",
   "execution_count": 15,
   "metadata": {},
   "outputs": [
    {
     "name": "stderr",
     "output_type": "stream",
     "text": [
      "/cvmfs/belle.cern.ch/sl6/externals/v01-08-00/Linux_x86_64/common/lib/python3.6/site-packages/pandas/core/indexing.py:362: SettingWithCopyWarning: \n",
      "A value is trying to be set on a copy of a slice from a DataFrame.\n",
      "Try using .loc[row_indexer,col_indexer] = value instead\n",
      "\n",
      "See the caveats in the documentation: http://pandas.pydata.org/pandas-docs/stable/user_guide/indexing.html#returning-a-view-versus-a-copy\n",
      "  self.obj[key] = _infer_fill_value(value)\n",
      "/cvmfs/belle.cern.ch/sl6/externals/v01-08-00/Linux_x86_64/common/lib/python3.6/site-packages/pandas/core/indexing.py:480: SettingWithCopyWarning: \n",
      "A value is trying to be set on a copy of a slice from a DataFrame.\n",
      "Try using .loc[row_indexer,col_indexer] = value instead\n",
      "\n",
      "See the caveats in the documentation: http://pandas.pydata.org/pandas-docs/stable/user_guide/indexing.html#returning-a-view-versus-a-copy\n",
      "  self.obj[item] = s\n"
     ]
    }
   ],
   "source": [
    "test.loc[:, 'mva'] = model.predict(test[features])\n",
    "train.loc[:, 'mva'] = model.predict(train[features])"
   ]
  },
  {
   "cell_type": "code",
   "execution_count": 85,
   "metadata": {},
   "outputs": [
    {
     "data": {
      "text/html": [
       "<div>\n",
       "<style scoped>\n",
       "    .dataframe tbody tr th:only-of-type {\n",
       "        vertical-align: middle;\n",
       "    }\n",
       "\n",
       "    .dataframe tbody tr th {\n",
       "        vertical-align: top;\n",
       "    }\n",
       "\n",
       "    .dataframe thead th {\n",
       "        text-align: right;\n",
       "    }\n",
       "</style>\n",
       "<table border=\"1\" class=\"dataframe\">\n",
       "  <thead>\n",
       "    <tr style=\"text-align: right;\">\n",
       "      <th></th>\n",
       "      <th>__experiment__</th>\n",
       "      <th>__run__</th>\n",
       "      <th>__event__</th>\n",
       "      <th>__candidate__</th>\n",
       "      <th>__ncandidates__</th>\n",
       "      <th>__weight__</th>\n",
       "      <th>M</th>\n",
       "      <th>p</th>\n",
       "      <th>chiProb</th>\n",
       "      <th>cosa</th>\n",
       "      <th>...</th>\n",
       "      <th>p_genMotherPDG</th>\n",
       "      <th>pi_pid_ppi</th>\n",
       "      <th>pi_pid_pk</th>\n",
       "      <th>pi_pid_kpi</th>\n",
       "      <th>pi_dr</th>\n",
       "      <th>pi_dz</th>\n",
       "      <th>pi_p</th>\n",
       "      <th>pi_isSignal</th>\n",
       "      <th>pi_genMotherPDG</th>\n",
       "      <th>mva</th>\n",
       "    </tr>\n",
       "  </thead>\n",
       "  <tbody>\n",
       "    <tr>\n",
       "      <th>412260</th>\n",
       "      <td>55</td>\n",
       "      <td>43</td>\n",
       "      <td>385513</td>\n",
       "      <td>0</td>\n",
       "      <td>1</td>\n",
       "      <td>1.0</td>\n",
       "      <td>1.115697</td>\n",
       "      <td>1.003169</td>\n",
       "      <td>6.621859e-02</td>\n",
       "      <td>0.999999</td>\n",
       "      <td>...</td>\n",
       "      <td>3122.0</td>\n",
       "      <td>0.001000</td>\n",
       "      <td>0.001000</td>\n",
       "      <td>0.001000</td>\n",
       "      <td>13.355302</td>\n",
       "      <td>-10.505295</td>\n",
       "      <td>0.271095</td>\n",
       "      <td>1.0</td>\n",
       "      <td>3122.0</td>\n",
       "      <td>9.411598e-01</td>\n",
       "    </tr>\n",
       "    <tr>\n",
       "      <th>101536</th>\n",
       "      <td>55</td>\n",
       "      <td>34</td>\n",
       "      <td>77082</td>\n",
       "      <td>0</td>\n",
       "      <td>1</td>\n",
       "      <td>1.0</td>\n",
       "      <td>1.135745</td>\n",
       "      <td>0.818394</td>\n",
       "      <td>5.899046e-20</td>\n",
       "      <td>-0.936027</td>\n",
       "      <td>...</td>\n",
       "      <td>313.0</td>\n",
       "      <td>0.999000</td>\n",
       "      <td>0.244904</td>\n",
       "      <td>0.999000</td>\n",
       "      <td>0.045587</td>\n",
       "      <td>-12.263409</td>\n",
       "      <td>0.271158</td>\n",
       "      <td>0.0</td>\n",
       "      <td>421.0</td>\n",
       "      <td>1.192093e-07</td>\n",
       "    </tr>\n",
       "    <tr>\n",
       "      <th>251792</th>\n",
       "      <td>55</td>\n",
       "      <td>7</td>\n",
       "      <td>16760</td>\n",
       "      <td>0</td>\n",
       "      <td>1</td>\n",
       "      <td>1.0</td>\n",
       "      <td>1.114345</td>\n",
       "      <td>0.516217</td>\n",
       "      <td>4.759075e-02</td>\n",
       "      <td>0.657816</td>\n",
       "      <td>...</td>\n",
       "      <td>3122.0</td>\n",
       "      <td>0.001000</td>\n",
       "      <td>0.001000</td>\n",
       "      <td>0.001000</td>\n",
       "      <td>6.034201</td>\n",
       "      <td>-18.329960</td>\n",
       "      <td>0.176106</td>\n",
       "      <td>1.0</td>\n",
       "      <td>3122.0</td>\n",
       "      <td>8.289982e-01</td>\n",
       "    </tr>\n",
       "    <tr>\n",
       "      <th>79470</th>\n",
       "      <td>55</td>\n",
       "      <td>28</td>\n",
       "      <td>172067</td>\n",
       "      <td>0</td>\n",
       "      <td>1</td>\n",
       "      <td>1.0</td>\n",
       "      <td>1.111055</td>\n",
       "      <td>0.455249</td>\n",
       "      <td>6.597530e-01</td>\n",
       "      <td>0.006766</td>\n",
       "      <td>...</td>\n",
       "      <td>-213.0</td>\n",
       "      <td>0.001000</td>\n",
       "      <td>0.001000</td>\n",
       "      <td>0.001000</td>\n",
       "      <td>0.146989</td>\n",
       "      <td>1.622901</td>\n",
       "      <td>0.141978</td>\n",
       "      <td>0.0</td>\n",
       "      <td>22.0</td>\n",
       "      <td>9.268522e-06</td>\n",
       "    </tr>\n",
       "    <tr>\n",
       "      <th>111991</th>\n",
       "      <td>55</td>\n",
       "      <td>38</td>\n",
       "      <td>71156</td>\n",
       "      <td>0</td>\n",
       "      <td>1</td>\n",
       "      <td>1.0</td>\n",
       "      <td>1.115947</td>\n",
       "      <td>2.356331</td>\n",
       "      <td>9.969030e-01</td>\n",
       "      <td>0.999996</td>\n",
       "      <td>...</td>\n",
       "      <td>-3122.0</td>\n",
       "      <td>0.000001</td>\n",
       "      <td>0.001000</td>\n",
       "      <td>0.000001</td>\n",
       "      <td>18.029173</td>\n",
       "      <td>7.276191</td>\n",
       "      <td>0.437101</td>\n",
       "      <td>1.0</td>\n",
       "      <td>-3122.0</td>\n",
       "      <td>9.999771e-01</td>\n",
       "    </tr>\n",
       "  </tbody>\n",
       "</table>\n",
       "<p>5 rows × 38 columns</p>\n",
       "</div>"
      ],
      "text/plain": [
       "        __experiment__  __run__  __event__  __candidate__  __ncandidates__  \\\n",
       "412260              55       43     385513              0                1   \n",
       "101536              55       34      77082              0                1   \n",
       "251792              55        7      16760              0                1   \n",
       "79470               55       28     172067              0                1   \n",
       "111991              55       38      71156              0                1   \n",
       "\n",
       "        __weight__         M         p       chiProb      cosa  ...  \\\n",
       "412260         1.0  1.115697  1.003169  6.621859e-02  0.999999  ...   \n",
       "101536         1.0  1.135745  0.818394  5.899046e-20 -0.936027  ...   \n",
       "251792         1.0  1.114345  0.516217  4.759075e-02  0.657816  ...   \n",
       "79470          1.0  1.111055  0.455249  6.597530e-01  0.006766  ...   \n",
       "111991         1.0  1.115947  2.356331  9.969030e-01  0.999996  ...   \n",
       "\n",
       "        p_genMotherPDG  pi_pid_ppi  pi_pid_pk  pi_pid_kpi      pi_dr  \\\n",
       "412260          3122.0    0.001000   0.001000    0.001000  13.355302   \n",
       "101536           313.0    0.999000   0.244904    0.999000   0.045587   \n",
       "251792          3122.0    0.001000   0.001000    0.001000   6.034201   \n",
       "79470           -213.0    0.001000   0.001000    0.001000   0.146989   \n",
       "111991         -3122.0    0.000001   0.001000    0.000001  18.029173   \n",
       "\n",
       "            pi_dz      pi_p  pi_isSignal  pi_genMotherPDG           mva  \n",
       "412260 -10.505295  0.271095          1.0           3122.0  9.411598e-01  \n",
       "101536 -12.263409  0.271158          0.0            421.0  1.192093e-07  \n",
       "251792 -18.329960  0.176106          1.0           3122.0  8.289982e-01  \n",
       "79470    1.622901  0.141978          0.0             22.0  9.268522e-06  \n",
       "111991   7.276191  0.437101          1.0          -3122.0  9.999771e-01  \n",
       "\n",
       "[5 rows x 38 columns]"
      ]
     },
     "execution_count": 85,
     "metadata": {},
     "output_type": "execute_result"
    }
   ],
   "source": [
    "train.head()"
   ]
  },
  {
   "cell_type": "code",
   "execution_count": 86,
   "metadata": {},
   "outputs": [
    {
     "data": {
      "text/html": [
       "<div>\n",
       "<style scoped>\n",
       "    .dataframe tbody tr th:only-of-type {\n",
       "        vertical-align: middle;\n",
       "    }\n",
       "\n",
       "    .dataframe tbody tr th {\n",
       "        vertical-align: top;\n",
       "    }\n",
       "\n",
       "    .dataframe thead th {\n",
       "        text-align: right;\n",
       "    }\n",
       "</style>\n",
       "<table border=\"1\" class=\"dataframe\">\n",
       "  <thead>\n",
       "    <tr style=\"text-align: right;\">\n",
       "      <th></th>\n",
       "      <th>__experiment__</th>\n",
       "      <th>__run__</th>\n",
       "      <th>__event__</th>\n",
       "      <th>__candidate__</th>\n",
       "      <th>__ncandidates__</th>\n",
       "      <th>__weight__</th>\n",
       "      <th>M</th>\n",
       "      <th>p</th>\n",
       "      <th>chiProb</th>\n",
       "      <th>cosa</th>\n",
       "      <th>...</th>\n",
       "      <th>p_genMotherPDG</th>\n",
       "      <th>pi_pid_ppi</th>\n",
       "      <th>pi_pid_pk</th>\n",
       "      <th>pi_pid_kpi</th>\n",
       "      <th>pi_dr</th>\n",
       "      <th>pi_dz</th>\n",
       "      <th>pi_p</th>\n",
       "      <th>pi_isSignal</th>\n",
       "      <th>pi_genMotherPDG</th>\n",
       "      <th>mva</th>\n",
       "    </tr>\n",
       "  </thead>\n",
       "  <tbody>\n",
       "    <tr>\n",
       "      <th>200359</th>\n",
       "      <td>55</td>\n",
       "      <td>34</td>\n",
       "      <td>1592</td>\n",
       "      <td>0</td>\n",
       "      <td>1</td>\n",
       "      <td>1.0</td>\n",
       "      <td>1.130265</td>\n",
       "      <td>0.476733</td>\n",
       "      <td>2.399015e-11</td>\n",
       "      <td>-0.782248</td>\n",
       "      <td>...</td>\n",
       "      <td>310.0</td>\n",
       "      <td>0.001000</td>\n",
       "      <td>0.001000</td>\n",
       "      <td>0.001000</td>\n",
       "      <td>6.716284</td>\n",
       "      <td>-1.390638</td>\n",
       "      <td>0.168665</td>\n",
       "      <td>1.0</td>\n",
       "      <td>323.0</td>\n",
       "      <td>0.000560</td>\n",
       "    </tr>\n",
       "    <tr>\n",
       "      <th>333348</th>\n",
       "      <td>55</td>\n",
       "      <td>38</td>\n",
       "      <td>97382</td>\n",
       "      <td>0</td>\n",
       "      <td>1</td>\n",
       "      <td>1.0</td>\n",
       "      <td>1.114885</td>\n",
       "      <td>3.772121</td>\n",
       "      <td>5.238237e-02</td>\n",
       "      <td>0.993614</td>\n",
       "      <td>...</td>\n",
       "      <td>-3122.0</td>\n",
       "      <td>0.000001</td>\n",
       "      <td>0.001000</td>\n",
       "      <td>0.000001</td>\n",
       "      <td>1.569017</td>\n",
       "      <td>0.220221</td>\n",
       "      <td>0.503980</td>\n",
       "      <td>1.0</td>\n",
       "      <td>-3122.0</td>\n",
       "      <td>0.994982</td>\n",
       "    </tr>\n",
       "    <tr>\n",
       "      <th>163132</th>\n",
       "      <td>55</td>\n",
       "      <td>43</td>\n",
       "      <td>274666</td>\n",
       "      <td>0</td>\n",
       "      <td>1</td>\n",
       "      <td>1.0</td>\n",
       "      <td>1.114997</td>\n",
       "      <td>1.030730</td>\n",
       "      <td>9.772386e-01</td>\n",
       "      <td>0.999302</td>\n",
       "      <td>...</td>\n",
       "      <td>-3122.0</td>\n",
       "      <td>0.001000</td>\n",
       "      <td>0.001000</td>\n",
       "      <td>0.001000</td>\n",
       "      <td>1.097223</td>\n",
       "      <td>-0.934916</td>\n",
       "      <td>0.245296</td>\n",
       "      <td>1.0</td>\n",
       "      <td>-3122.0</td>\n",
       "      <td>0.997010</td>\n",
       "    </tr>\n",
       "    <tr>\n",
       "      <th>359600</th>\n",
       "      <td>55</td>\n",
       "      <td>40</td>\n",
       "      <td>336216</td>\n",
       "      <td>0</td>\n",
       "      <td>1</td>\n",
       "      <td>1.0</td>\n",
       "      <td>1.107871</td>\n",
       "      <td>1.677325</td>\n",
       "      <td>1.575073e-34</td>\n",
       "      <td>0.494439</td>\n",
       "      <td>...</td>\n",
       "      <td>10022.0</td>\n",
       "      <td>0.001003</td>\n",
       "      <td>0.001000</td>\n",
       "      <td>0.001003</td>\n",
       "      <td>0.153916</td>\n",
       "      <td>0.920977</td>\n",
       "      <td>0.332940</td>\n",
       "      <td>1.0</td>\n",
       "      <td>2214.0</td>\n",
       "      <td>0.393559</td>\n",
       "    </tr>\n",
       "    <tr>\n",
       "      <th>163862</th>\n",
       "      <td>55</td>\n",
       "      <td>43</td>\n",
       "      <td>285006</td>\n",
       "      <td>0</td>\n",
       "      <td>1</td>\n",
       "      <td>1.0</td>\n",
       "      <td>2.699260</td>\n",
       "      <td>5.628109</td>\n",
       "      <td>0.000000e+00</td>\n",
       "      <td>-0.682707</td>\n",
       "      <td>...</td>\n",
       "      <td>-211.0</td>\n",
       "      <td>0.001000</td>\n",
       "      <td>0.029354</td>\n",
       "      <td>0.001000</td>\n",
       "      <td>2.838017</td>\n",
       "      <td>69.656309</td>\n",
       "      <td>0.130450</td>\n",
       "      <td>0.0</td>\n",
       "      <td>22.0</td>\n",
       "      <td>0.011410</td>\n",
       "    </tr>\n",
       "  </tbody>\n",
       "</table>\n",
       "<p>5 rows × 38 columns</p>\n",
       "</div>"
      ],
      "text/plain": [
       "        __experiment__  __run__  __event__  __candidate__  __ncandidates__  \\\n",
       "200359              55       34       1592              0                1   \n",
       "333348              55       38      97382              0                1   \n",
       "163132              55       43     274666              0                1   \n",
       "359600              55       40     336216              0                1   \n",
       "163862              55       43     285006              0                1   \n",
       "\n",
       "        __weight__         M         p       chiProb      cosa  ...  \\\n",
       "200359         1.0  1.130265  0.476733  2.399015e-11 -0.782248  ...   \n",
       "333348         1.0  1.114885  3.772121  5.238237e-02  0.993614  ...   \n",
       "163132         1.0  1.114997  1.030730  9.772386e-01  0.999302  ...   \n",
       "359600         1.0  1.107871  1.677325  1.575073e-34  0.494439  ...   \n",
       "163862         1.0  2.699260  5.628109  0.000000e+00 -0.682707  ...   \n",
       "\n",
       "        p_genMotherPDG  pi_pid_ppi  pi_pid_pk  pi_pid_kpi     pi_dr  \\\n",
       "200359           310.0    0.001000   0.001000    0.001000  6.716284   \n",
       "333348         -3122.0    0.000001   0.001000    0.000001  1.569017   \n",
       "163132         -3122.0    0.001000   0.001000    0.001000  1.097223   \n",
       "359600         10022.0    0.001003   0.001000    0.001003  0.153916   \n",
       "163862          -211.0    0.001000   0.029354    0.001000  2.838017   \n",
       "\n",
       "            pi_dz      pi_p  pi_isSignal  pi_genMotherPDG       mva  \n",
       "200359  -1.390638  0.168665          1.0            323.0  0.000560  \n",
       "333348   0.220221  0.503980          1.0          -3122.0  0.994982  \n",
       "163132  -0.934916  0.245296          1.0          -3122.0  0.997010  \n",
       "359600   0.920977  0.332940          1.0           2214.0  0.393559  \n",
       "163862  69.656309  0.130450          0.0             22.0  0.011410  \n",
       "\n",
       "[5 rows x 38 columns]"
      ]
     },
     "execution_count": 86,
     "metadata": {},
     "output_type": "execute_result"
    }
   ],
   "source": [
    "test.head()"
   ]
  },
  {
   "cell_type": "code",
   "execution_count": 28,
   "metadata": {},
   "outputs": [
    {
     "data": {
      "image/png": "[encoded data removed]",
      "text/plain": [
       "<Figure size 576x432 with 1 Axes>"
      ]
     },
     "metadata": {
      "needs_background": "light"
     },
     "output_type": "display_data"
    }
   ],
   "source": [
    "plt.figure(figsize = (8, 6))\n",
    "# plt.hist(test.M, range = [1.105, 1.125], bins = 200, histtype = 'step', label = 'all')\n",
    "plt.hist(test[test.mva > 0.1].M, range = [1.105, 1.125], bins = 200, histtype = 'step', label = 'nn > 0.1')\n",
    "plt.hist(test[test.mva > 0.95].M, range = [1.105, 1.125], bins = 200, histtype = 'step', label = 'nn > 0.95')\n",
    "plt.hist(test[(test.goodBelleLambda >= 1) & (test.p_pid_ppi > 0.6)].M, range = [1.105, 1.125], bins = 200, histtype = 'step', label = 'goodLambda >= 1')\n",
    "\n",
    "plt.legend()\n",
    "plt.show()"
   ]
  },
  {
   "cell_type": "code",
   "execution_count": 88,
   "metadata": {},
   "outputs": [
    {
     "data": {
      "text/plain": [
       "(0.9940132758323856, 0.993760215074539)"
      ]
     },
     "execution_count": 88,
     "metadata": {},
     "output_type": "execute_result"
    }
   ],
   "source": [
    "roc_auc_score(test.isSignal, test.mva), roc_auc_score(train.isSignal, train.mva)"
   ]
  },
  {
   "cell_type": "markdown",
   "metadata": {},
   "source": [
    "AUC for `16-8-1`: \n",
    "(0.993946454601182, 0.9937648984095526)\n",
    "\n",
    "AUC for `16-8-8-1`\n",
    "(0.9940132758323856, 0.993760215074539)\n"
   ]
  },
  {
   "cell_type": "code",
   "execution_count": null,
   "metadata": {},
   "outputs": [],
   "source": []
  }
 ],
 "metadata": {
  "kernelspec": {
   "display_name": "Python 3 (Belle2)",
   "language": "python",
   "name": "python3"
  },
  "language_info": {
   "codemirror_mode": {
    "name": "ipython",
    "version": 3
   },
   "file_extension": ".py",
   "mimetype": "text/x-python",
   "name": "python",
   "nbconvert_exporter": "python",
   "pygments_lexer": "ipython3",
   "version": "3.6.9"
  }
 },
 "nbformat": 4,
 "nbformat_minor": 4
}
