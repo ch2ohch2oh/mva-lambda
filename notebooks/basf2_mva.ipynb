{
 "cells": [
  {
   "cell_type": "code",
   "execution_count": 1,
   "metadata": {},
   "outputs": [
    {
     "name": "stdout",
     "output_type": "stream",
     "text": [
      "Welcome to JupyROOT 6.18/00\n"
     ]
    }
   ],
   "source": [
    "import basf2_mva"
   ]
  },
  {
   "cell_type": "code",
   "execution_count": 2,
   "metadata": {},
   "outputs": [],
   "source": [
    "features = ['chiProb', 'cosaXY', 'dr', \n",
    "            'p_pid_pk', 'p_pid_ppi']"
   ]
  },
  {
   "cell_type": "code",
   "execution_count": 3,
   "metadata": {},
   "outputs": [],
   "source": [
    "go = basf2_mva.GeneralOptions()\n",
    "go.m_datafiles = basf2_mva.vector(\"../mc/exp55_run50_train.root\")\n",
    "go.m_treename = \"lambda\"\n",
    "go.m_identifier = \"belle_mva_lambda_v2.xml\"\n",
    "go.m_variables = basf2_mva.vector(*features)\n",
    "go.m_target_variable = \"isSignal\"\n",
    " \n",
    "sp = basf2_mva.FastBDTOptions()\n",
    "sp.nTrees = 200\n",
    "sp.depth = 3\n",
    "\n",
    "basf2_mva.teacher(go, sp)"
   ]
  },
  {
   "cell_type": "code",
   "execution_count": null,
   "metadata": {},
   "outputs": [],
   "source": []
  }
 ],
 "metadata": {
  "kernelspec": {
   "display_name": "Python 3 (Belle2)",
   "language": "python",
   "name": "python3"
  },
  "language_info": {
   "codemirror_mode": {
    "name": "ipython",
    "version": 3
   },
   "file_extension": ".py",
   "mimetype": "text/x-python",
   "name": "python",
   "nbconvert_exporter": "python",
   "pygments_lexer": "ipython3",
   "version": "3.6.9"
  }
 },
 "nbformat": 4,
 "nbformat_minor": 4
}
