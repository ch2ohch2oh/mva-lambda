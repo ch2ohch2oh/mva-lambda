{
 "cells": [
  {
   "cell_type": "code",
   "execution_count": 110,
   "metadata": {},
   "outputs": [],
   "source": [
    "from root_pandas import read_root\n",
    "import pdg\n",
    "import matplotlib.pyplot as plt\n",
    "from PyFastBDT import FastBDT\n",
    "import numpy as np\n",
    "import pandas as pd\n",
    "\n",
    "plt.rc('font', size=12)"
   ]
  },
  {
   "cell_type": "code",
   "execution_count": 2,
   "metadata": {},
   "outputs": [],
   "source": [
    "data = read_root('../mc/exp55_run50_balance.root', 'lambda')"
   ]
  },
  {
   "cell_type": "code",
   "execution_count": 3,
   "metadata": {},
   "outputs": [
    {
     "data": {
      "image/png": "[encoded data removed]",
      "text/plain": [
       "<Figure size 576x432 with 1 Axes>"
      ]
     },
     "metadata": {
      "needs_background": "light"
     },
     "output_type": "display_data"
    }
   ],
   "source": [
    "plt.figure(figsize = (8, 6))\n",
    "plt.hist(data.M, range = [1.105, 1.125], bins = 200)\n",
    "plt.hist(data[data.isSignal == 0].M, range = [1.105, 1.125], bins = 200)\n",
    "plt.show()"
   ]
  },
  {
   "cell_type": "code",
   "execution_count": 4,
   "metadata": {},
   "outputs": [
    {
     "data": {
      "text/plain": [
       "(436969, 39)"
      ]
     },
     "execution_count": 4,
     "metadata": {},
     "output_type": "execute_result"
    }
   ],
   "source": [
    "data.shape"
   ]
  },
  {
   "cell_type": "code",
   "execution_count": 5,
   "metadata": {},
   "outputs": [
    {
     "data": {
      "text/plain": [
       "224402"
      ]
     },
     "execution_count": 5,
     "metadata": {},
     "output_type": "execute_result"
    }
   ],
   "source": [
    "sum(data.isSignal == 1)"
   ]
  },
  {
   "cell_type": "code",
   "execution_count": 6,
   "metadata": {},
   "outputs": [
    {
     "data": {
      "text/plain": [
       "Index(['__experiment__', '__run__', '__event__', '__candidate__',\n",
       "       '__ncandidates__', '__weight__', 'M', 'p', 'chiProb', 'cosa', 'cosaXY',\n",
       "       'dr', 'dz', 'distance', 'significanceOfDistance', 'min_dr', 'min_dz',\n",
       "       'goodBelleLambda', 'isSignal', 'genMotherPDG', 'IPX', 'IPY', 'IPZ',\n",
       "       'p_pid_ppi', 'p_pid_pk', 'p_pid_kpi', 'p_dr', 'p_dz', 'p_p',\n",
       "       'p_isSignal', 'p_genMotherPDG', 'pi_pid_ppi', 'pi_pid_pk', 'pi_pid_kpi',\n",
       "       'pi_dr', 'pi_dz', 'pi_p', 'pi_isSignal', 'pi_genMotherPDG'],\n",
       "      dtype='object')"
      ]
     },
     "execution_count": 6,
     "metadata": {},
     "output_type": "execute_result"
    }
   ],
   "source": [
    "data.columns"
   ]
  },
  {
   "cell_type": "code",
   "execution_count": 16,
   "metadata": {},
   "outputs": [],
   "source": [
    "features = [\n",
    "    'p',\n",
    "    'chiProb',\n",
    "    'cosa',\n",
    "    'cosaXY',\n",
    "    'dr',\n",
    "    'dz',\n",
    "    'distance',\n",
    "    'significanceOfDistance',\n",
    "    'min_dr',\n",
    "    'min_dz',\n",
    "    'p_pid_ppi',\n",
    "    'p_pid_pk',\n",
    "    'p_pid_kpi',\n",
    "    'p_p',\n",
    "    'pi_pid_ppi',\n",
    "    'pi_pid_pk',\n",
    "    'pi_pid_kpi',\n",
    "    'pi_p',\n",
    "]"
   ]
  },
  {
   "cell_type": "code",
   "execution_count": 9,
   "metadata": {},
   "outputs": [],
   "source": [
    "data = data.sample(frac=1) # shuffle the data"
   ]
  },
  {
   "cell_type": "code",
   "execution_count": 10,
   "metadata": {},
   "outputs": [],
   "source": [
    "data_size = len(data)"
   ]
  },
  {
   "cell_type": "code",
   "execution_count": 11,
   "metadata": {},
   "outputs": [],
   "source": [
    "train_size = int(data_size * 0.8)"
   ]
  },
  {
   "cell_type": "code",
   "execution_count": 165,
   "metadata": {},
   "outputs": [],
   "source": [
    "train = data[:train_size]\n",
    "validation = data[train_size:]"
   ]
  },
  {
   "cell_type": "code",
   "execution_count": 166,
   "metadata": {},
   "outputs": [],
   "source": [
    "train.to_root('../mc/train.root', 'lambda')"
   ]
  },
  {
   "cell_type": "code",
   "execution_count": 168,
   "metadata": {},
   "outputs": [],
   "source": [
    "validation.to_root('../mc/validation.root', 'lambda')"
   ]
  },
  {
   "cell_type": "code",
   "execution_count": 13,
   "metadata": {},
   "outputs": [
    {
     "data": {
      "text/plain": [
       "(349575, 87394)"
      ]
     },
     "execution_count": 13,
     "metadata": {},
     "output_type": "execute_result"
    }
   ],
   "source": [
    "len(train), len(validation)"
   ]
  },
  {
   "cell_type": "code",
   "execution_count": 169,
   "metadata": {},
   "outputs": [
    {
     "data": {
      "text/plain": [
       "<PyFastBDT.FastBDT.Classifier at 0x7f627d1e5780>"
      ]
     },
     "execution_count": 169,
     "metadata": {},
     "output_type": "execute_result"
    }
   ],
   "source": [
    "clf = FastBDT.Classifier(nTrees=200, depth=3)\n",
    "clf.fit(train[features], train.isSignal)"
   ]
  },
  {
   "cell_type": "code",
   "execution_count": 170,
   "metadata": {},
   "outputs": [
    {
     "name": "stderr",
     "output_type": "stream",
     "text": [
      "/cvmfs/belle.cern.ch/sl6/externals/v01-08-00/Linux_x86_64/common/lib/python3.6/site-packages/ipykernel_launcher.py:1: SettingWithCopyWarning: \n",
      "A value is trying to be set on a copy of a slice from a DataFrame.\n",
      "Try using .loc[row_indexer,col_indexer] = value instead\n",
      "\n",
      "See the caveats in the documentation: http://pandas.pydata.org/pandas-docs/stable/user_guide/indexing.html#returning-a-view-versus-a-copy\n",
      "  \"\"\"Entry point for launching an IPython kernel.\n"
     ]
    }
   ],
   "source": [
    "train['mva'] = clf.predict(train[features])"
   ]
  },
  {
   "cell_type": "code",
   "execution_count": 171,
   "metadata": {},
   "outputs": [
    {
     "name": "stderr",
     "output_type": "stream",
     "text": [
      "/cvmfs/belle.cern.ch/sl6/externals/v01-08-00/Linux_x86_64/common/lib/python3.6/site-packages/ipykernel_launcher.py:1: SettingWithCopyWarning: \n",
      "A value is trying to be set on a copy of a slice from a DataFrame.\n",
      "Try using .loc[row_indexer,col_indexer] = value instead\n",
      "\n",
      "See the caveats in the documentation: http://pandas.pydata.org/pandas-docs/stable/user_guide/indexing.html#returning-a-view-versus-a-copy\n",
      "  \"\"\"Entry point for launching an IPython kernel.\n"
     ]
    }
   ],
   "source": [
    "validation['mva'] = clf.predict(validation[features])"
   ]
  },
  {
   "cell_type": "code",
   "execution_count": 124,
   "metadata": {},
   "outputs": [],
   "source": [
    "from sklearn.metrics import roc_auc_score"
   ]
  },
  {
   "cell_type": "code",
   "execution_count": 125,
   "metadata": {},
   "outputs": [
    {
     "name": "stdout",
     "output_type": "stream",
     "text": [
      "train auc \t= 0.9963202653808383\n",
      "validation auc \t= 0.9957646402777078\n"
     ]
    }
   ],
   "source": [
    "for df, name in zip([train, validation], ['train', 'validation']):\n",
    "    print(f'{name} auc \\t= {roc_auc_score(df.isSignal, df.mva)}')"
   ]
  },
  {
   "cell_type": "code",
   "execution_count": 126,
   "metadata": {},
   "outputs": [
    {
     "data": {
      "text/html": [
       "<div>\n",
       "<style scoped>\n",
       "    .dataframe tbody tr th:only-of-type {\n",
       "        vertical-align: middle;\n",
       "    }\n",
       "\n",
       "    .dataframe tbody tr th {\n",
       "        vertical-align: top;\n",
       "    }\n",
       "\n",
       "    .dataframe thead th {\n",
       "        text-align: right;\n",
       "    }\n",
       "</style>\n",
       "<table border=\"1\" class=\"dataframe\">\n",
       "  <thead>\n",
       "    <tr style=\"text-align: right;\">\n",
       "      <th></th>\n",
       "      <th>p</th>\n",
       "      <th>chiProb</th>\n",
       "      <th>cosa</th>\n",
       "      <th>cosaXY</th>\n",
       "      <th>dr</th>\n",
       "      <th>dz</th>\n",
       "      <th>distance</th>\n",
       "      <th>significanceOfDistance</th>\n",
       "      <th>min_dr</th>\n",
       "      <th>min_dz</th>\n",
       "      <th>p_pid_ppi</th>\n",
       "      <th>p_pid_pk</th>\n",
       "      <th>p_pid_kpi</th>\n",
       "      <th>p_p</th>\n",
       "      <th>pi_pid_ppi</th>\n",
       "      <th>pi_pid_pk</th>\n",
       "      <th>pi_pid_kpi</th>\n",
       "      <th>pi_p</th>\n",
       "    </tr>\n",
       "  </thead>\n",
       "  <tbody>\n",
       "    <tr>\n",
       "      <th>p</th>\n",
       "      <td>1.000000</td>\n",
       "      <td>-0.000930</td>\n",
       "      <td>0.002380</td>\n",
       "      <td>-0.000635</td>\n",
       "      <td>0.054116</td>\n",
       "      <td>0.054952</td>\n",
       "      <td>0.092603</td>\n",
       "      <td>0.083679</td>\n",
       "      <td>0.004258</td>\n",
       "      <td>-0.003164</td>\n",
       "      <td>0.000165</td>\n",
       "      <td>-0.000048</td>\n",
       "      <td>0.001519</td>\n",
       "      <td>0.007543</td>\n",
       "      <td>-0.000135</td>\n",
       "      <td>0.000337</td>\n",
       "      <td>0.000205</td>\n",
       "      <td>0.006554</td>\n",
       "    </tr>\n",
       "    <tr>\n",
       "      <th>chiProb</th>\n",
       "      <td>-0.000930</td>\n",
       "      <td>1.000000</td>\n",
       "      <td>0.356385</td>\n",
       "      <td>0.331979</td>\n",
       "      <td>-0.090964</td>\n",
       "      <td>-0.042486</td>\n",
       "      <td>-0.119941</td>\n",
       "      <td>-0.168310</td>\n",
       "      <td>-0.236573</td>\n",
       "      <td>0.115834</td>\n",
       "      <td>0.393132</td>\n",
       "      <td>0.403795</td>\n",
       "      <td>0.343237</td>\n",
       "      <td>0.295706</td>\n",
       "      <td>-0.090101</td>\n",
       "      <td>-0.076408</td>\n",
       "      <td>-0.091511</td>\n",
       "      <td>0.240740</td>\n",
       "    </tr>\n",
       "    <tr>\n",
       "      <th>cosa</th>\n",
       "      <td>0.002380</td>\n",
       "      <td>0.356385</td>\n",
       "      <td>1.000000</td>\n",
       "      <td>0.889872</td>\n",
       "      <td>-0.062047</td>\n",
       "      <td>0.055720</td>\n",
       "      <td>-0.091779</td>\n",
       "      <td>-0.058194</td>\n",
       "      <td>-0.102286</td>\n",
       "      <td>0.213708</td>\n",
       "      <td>0.538309</td>\n",
       "      <td>0.549004</td>\n",
       "      <td>0.443508</td>\n",
       "      <td>0.329323</td>\n",
       "      <td>-0.087596</td>\n",
       "      <td>-0.071913</td>\n",
       "      <td>-0.078869</td>\n",
       "      <td>0.252306</td>\n",
       "    </tr>\n",
       "    <tr>\n",
       "      <th>cosaXY</th>\n",
       "      <td>-0.000635</td>\n",
       "      <td>0.331979</td>\n",
       "      <td>0.889872</td>\n",
       "      <td>1.000000</td>\n",
       "      <td>-0.056441</td>\n",
       "      <td>0.044107</td>\n",
       "      <td>-0.077032</td>\n",
       "      <td>-0.027375</td>\n",
       "      <td>-0.081685</td>\n",
       "      <td>0.180868</td>\n",
       "      <td>0.505083</td>\n",
       "      <td>0.513671</td>\n",
       "      <td>0.418447</td>\n",
       "      <td>0.313477</td>\n",
       "      <td>-0.077553</td>\n",
       "      <td>-0.065122</td>\n",
       "      <td>-0.067860</td>\n",
       "      <td>0.235459</td>\n",
       "    </tr>\n",
       "    <tr>\n",
       "      <th>dr</th>\n",
       "      <td>0.054116</td>\n",
       "      <td>-0.090964</td>\n",
       "      <td>-0.062047</td>\n",
       "      <td>-0.056441</td>\n",
       "      <td>1.000000</td>\n",
       "      <td>0.083095</td>\n",
       "      <td>0.917262</td>\n",
       "      <td>0.590536</td>\n",
       "      <td>0.225710</td>\n",
       "      <td>-0.036663</td>\n",
       "      <td>-0.087295</td>\n",
       "      <td>-0.090619</td>\n",
       "      <td>-0.068074</td>\n",
       "      <td>-0.047055</td>\n",
       "      <td>0.016225</td>\n",
       "      <td>0.017395</td>\n",
       "      <td>0.016392</td>\n",
       "      <td>-0.029522</td>\n",
       "    </tr>\n",
       "    <tr>\n",
       "      <th>dz</th>\n",
       "      <td>0.054952</td>\n",
       "      <td>-0.042486</td>\n",
       "      <td>0.055720</td>\n",
       "      <td>0.044107</td>\n",
       "      <td>0.083095</td>\n",
       "      <td>1.000000</td>\n",
       "      <td>-0.102104</td>\n",
       "      <td>-0.051546</td>\n",
       "      <td>0.136911</td>\n",
       "      <td>0.442873</td>\n",
       "      <td>-0.033317</td>\n",
       "      <td>-0.037681</td>\n",
       "      <td>-0.031364</td>\n",
       "      <td>-0.022028</td>\n",
       "      <td>0.004851</td>\n",
       "      <td>0.007448</td>\n",
       "      <td>0.007627</td>\n",
       "      <td>-0.005507</td>\n",
       "    </tr>\n",
       "    <tr>\n",
       "      <th>distance</th>\n",
       "      <td>0.092603</td>\n",
       "      <td>-0.119941</td>\n",
       "      <td>-0.091779</td>\n",
       "      <td>-0.077032</td>\n",
       "      <td>0.917262</td>\n",
       "      <td>-0.102104</td>\n",
       "      <td>1.000000</td>\n",
       "      <td>0.738298</td>\n",
       "      <td>0.266818</td>\n",
       "      <td>-0.028583</td>\n",
       "      <td>-0.112904</td>\n",
       "      <td>-0.118498</td>\n",
       "      <td>-0.087369</td>\n",
       "      <td>-0.047142</td>\n",
       "      <td>0.026183</td>\n",
       "      <td>0.027483</td>\n",
       "      <td>0.028014</td>\n",
       "      <td>-0.023085</td>\n",
       "    </tr>\n",
       "    <tr>\n",
       "      <th>significanceOfDistance</th>\n",
       "      <td>0.083679</td>\n",
       "      <td>-0.168310</td>\n",
       "      <td>-0.058194</td>\n",
       "      <td>-0.027375</td>\n",
       "      <td>0.590536</td>\n",
       "      <td>-0.051546</td>\n",
       "      <td>0.738298</td>\n",
       "      <td>1.000000</td>\n",
       "      <td>0.496877</td>\n",
       "      <td>-0.022275</td>\n",
       "      <td>-0.133406</td>\n",
       "      <td>-0.140881</td>\n",
       "      <td>-0.095325</td>\n",
       "      <td>-0.065579</td>\n",
       "      <td>0.033901</td>\n",
       "      <td>0.036449</td>\n",
       "      <td>0.035207</td>\n",
       "      <td>-0.051471</td>\n",
       "    </tr>\n",
       "    <tr>\n",
       "      <th>min_dr</th>\n",
       "      <td>0.004258</td>\n",
       "      <td>-0.236573</td>\n",
       "      <td>-0.102286</td>\n",
       "      <td>-0.081685</td>\n",
       "      <td>0.225710</td>\n",
       "      <td>0.136911</td>\n",
       "      <td>0.266818</td>\n",
       "      <td>0.496877</td>\n",
       "      <td>1.000000</td>\n",
       "      <td>0.028831</td>\n",
       "      <td>-0.202320</td>\n",
       "      <td>-0.215819</td>\n",
       "      <td>-0.138999</td>\n",
       "      <td>-0.080830</td>\n",
       "      <td>0.052971</td>\n",
       "      <td>0.049497</td>\n",
       "      <td>0.059551</td>\n",
       "      <td>-0.046036</td>\n",
       "    </tr>\n",
       "    <tr>\n",
       "      <th>min_dz</th>\n",
       "      <td>-0.003164</td>\n",
       "      <td>0.115834</td>\n",
       "      <td>0.213708</td>\n",
       "      <td>0.180868</td>\n",
       "      <td>-0.036663</td>\n",
       "      <td>0.442873</td>\n",
       "      <td>-0.028583</td>\n",
       "      <td>-0.022275</td>\n",
       "      <td>0.028831</td>\n",
       "      <td>1.000000</td>\n",
       "      <td>0.118118</td>\n",
       "      <td>0.119074</td>\n",
       "      <td>0.089977</td>\n",
       "      <td>0.073909</td>\n",
       "      <td>-0.029998</td>\n",
       "      <td>-0.026503</td>\n",
       "      <td>-0.023597</td>\n",
       "      <td>0.056752</td>\n",
       "    </tr>\n",
       "    <tr>\n",
       "      <th>p_pid_ppi</th>\n",
       "      <td>0.000165</td>\n",
       "      <td>0.393132</td>\n",
       "      <td>0.538309</td>\n",
       "      <td>0.505083</td>\n",
       "      <td>-0.087295</td>\n",
       "      <td>-0.033317</td>\n",
       "      <td>-0.112904</td>\n",
       "      <td>-0.133406</td>\n",
       "      <td>-0.202320</td>\n",
       "      <td>0.118118</td>\n",
       "      <td>1.000000</td>\n",
       "      <td>0.936071</td>\n",
       "      <td>0.808766</td>\n",
       "      <td>0.419454</td>\n",
       "      <td>-0.100932</td>\n",
       "      <td>-0.093928</td>\n",
       "      <td>-0.085715</td>\n",
       "      <td>0.317890</td>\n",
       "    </tr>\n",
       "    <tr>\n",
       "      <th>p_pid_pk</th>\n",
       "      <td>-0.000048</td>\n",
       "      <td>0.403795</td>\n",
       "      <td>0.549004</td>\n",
       "      <td>0.513671</td>\n",
       "      <td>-0.090619</td>\n",
       "      <td>-0.037681</td>\n",
       "      <td>-0.118498</td>\n",
       "      <td>-0.140881</td>\n",
       "      <td>-0.215819</td>\n",
       "      <td>0.119074</td>\n",
       "      <td>0.936071</td>\n",
       "      <td>1.000000</td>\n",
       "      <td>0.710813</td>\n",
       "      <td>0.395412</td>\n",
       "      <td>-0.109587</td>\n",
       "      <td>-0.096307</td>\n",
       "      <td>-0.095981</td>\n",
       "      <td>0.297551</td>\n",
       "    </tr>\n",
       "    <tr>\n",
       "      <th>p_pid_kpi</th>\n",
       "      <td>0.001519</td>\n",
       "      <td>0.343237</td>\n",
       "      <td>0.443508</td>\n",
       "      <td>0.418447</td>\n",
       "      <td>-0.068074</td>\n",
       "      <td>-0.031364</td>\n",
       "      <td>-0.087369</td>\n",
       "      <td>-0.095325</td>\n",
       "      <td>-0.138999</td>\n",
       "      <td>0.089977</td>\n",
       "      <td>0.808766</td>\n",
       "      <td>0.710813</td>\n",
       "      <td>1.000000</td>\n",
       "      <td>0.507478</td>\n",
       "      <td>-0.072530</td>\n",
       "      <td>-0.068228</td>\n",
       "      <td>-0.058272</td>\n",
       "      <td>0.368460</td>\n",
       "    </tr>\n",
       "    <tr>\n",
       "      <th>p_p</th>\n",
       "      <td>0.007543</td>\n",
       "      <td>0.295706</td>\n",
       "      <td>0.329323</td>\n",
       "      <td>0.313477</td>\n",
       "      <td>-0.047055</td>\n",
       "      <td>-0.022028</td>\n",
       "      <td>-0.047142</td>\n",
       "      <td>-0.065579</td>\n",
       "      <td>-0.080830</td>\n",
       "      <td>0.073909</td>\n",
       "      <td>0.419454</td>\n",
       "      <td>0.395412</td>\n",
       "      <td>0.507478</td>\n",
       "      <td>1.000000</td>\n",
       "      <td>-0.051125</td>\n",
       "      <td>-0.025897</td>\n",
       "      <td>-0.016101</td>\n",
       "      <td>0.701125</td>\n",
       "    </tr>\n",
       "    <tr>\n",
       "      <th>pi_pid_ppi</th>\n",
       "      <td>-0.000135</td>\n",
       "      <td>-0.090101</td>\n",
       "      <td>-0.087596</td>\n",
       "      <td>-0.077553</td>\n",
       "      <td>0.016225</td>\n",
       "      <td>0.004851</td>\n",
       "      <td>0.026183</td>\n",
       "      <td>0.033901</td>\n",
       "      <td>0.052971</td>\n",
       "      <td>-0.029998</td>\n",
       "      <td>-0.100932</td>\n",
       "      <td>-0.109587</td>\n",
       "      <td>-0.072530</td>\n",
       "      <td>-0.051125</td>\n",
       "      <td>1.000000</td>\n",
       "      <td>0.533008</td>\n",
       "      <td>0.858629</td>\n",
       "      <td>-0.023021</td>\n",
       "    </tr>\n",
       "    <tr>\n",
       "      <th>pi_pid_pk</th>\n",
       "      <td>0.000337</td>\n",
       "      <td>-0.076408</td>\n",
       "      <td>-0.071913</td>\n",
       "      <td>-0.065122</td>\n",
       "      <td>0.017395</td>\n",
       "      <td>0.007448</td>\n",
       "      <td>0.027483</td>\n",
       "      <td>0.036449</td>\n",
       "      <td>0.049497</td>\n",
       "      <td>-0.026503</td>\n",
       "      <td>-0.093928</td>\n",
       "      <td>-0.096307</td>\n",
       "      <td>-0.068228</td>\n",
       "      <td>-0.025897</td>\n",
       "      <td>0.533008</td>\n",
       "      <td>1.000000</td>\n",
       "      <td>0.352824</td>\n",
       "      <td>-0.009175</td>\n",
       "    </tr>\n",
       "    <tr>\n",
       "      <th>pi_pid_kpi</th>\n",
       "      <td>0.000205</td>\n",
       "      <td>-0.091511</td>\n",
       "      <td>-0.078869</td>\n",
       "      <td>-0.067860</td>\n",
       "      <td>0.016392</td>\n",
       "      <td>0.007627</td>\n",
       "      <td>0.028014</td>\n",
       "      <td>0.035207</td>\n",
       "      <td>0.059551</td>\n",
       "      <td>-0.023597</td>\n",
       "      <td>-0.085715</td>\n",
       "      <td>-0.095981</td>\n",
       "      <td>-0.058272</td>\n",
       "      <td>-0.016101</td>\n",
       "      <td>0.858629</td>\n",
       "      <td>0.352824</td>\n",
       "      <td>1.000000</td>\n",
       "      <td>0.023753</td>\n",
       "    </tr>\n",
       "    <tr>\n",
       "      <th>pi_p</th>\n",
       "      <td>0.006554</td>\n",
       "      <td>0.240740</td>\n",
       "      <td>0.252306</td>\n",
       "      <td>0.235459</td>\n",
       "      <td>-0.029522</td>\n",
       "      <td>-0.005507</td>\n",
       "      <td>-0.023085</td>\n",
       "      <td>-0.051471</td>\n",
       "      <td>-0.046036</td>\n",
       "      <td>0.056752</td>\n",
       "      <td>0.317890</td>\n",
       "      <td>0.297551</td>\n",
       "      <td>0.368460</td>\n",
       "      <td>0.701125</td>\n",
       "      <td>-0.023021</td>\n",
       "      <td>-0.009175</td>\n",
       "      <td>0.023753</td>\n",
       "      <td>1.000000</td>\n",
       "    </tr>\n",
       "  </tbody>\n",
       "</table>\n",
       "</div>"
      ],
      "text/plain": [
       "                               p   chiProb      cosa    cosaXY        dr  \\\n",
       "p                       1.000000 -0.000930  0.002380 -0.000635  0.054116   \n",
       "chiProb                -0.000930  1.000000  0.356385  0.331979 -0.090964   \n",
       "cosa                    0.002380  0.356385  1.000000  0.889872 -0.062047   \n",
       "cosaXY                 -0.000635  0.331979  0.889872  1.000000 -0.056441   \n",
       "dr                      0.054116 -0.090964 -0.062047 -0.056441  1.000000   \n",
       "dz                      0.054952 -0.042486  0.055720  0.044107  0.083095   \n",
       "distance                0.092603 -0.119941 -0.091779 -0.077032  0.917262   \n",
       "significanceOfDistance  0.083679 -0.168310 -0.058194 -0.027375  0.590536   \n",
       "min_dr                  0.004258 -0.236573 -0.102286 -0.081685  0.225710   \n",
       "min_dz                 -0.003164  0.115834  0.213708  0.180868 -0.036663   \n",
       "p_pid_ppi               0.000165  0.393132  0.538309  0.505083 -0.087295   \n",
       "p_pid_pk               -0.000048  0.403795  0.549004  0.513671 -0.090619   \n",
       "p_pid_kpi               0.001519  0.343237  0.443508  0.418447 -0.068074   \n",
       "p_p                     0.007543  0.295706  0.329323  0.313477 -0.047055   \n",
       "pi_pid_ppi             -0.000135 -0.090101 -0.087596 -0.077553  0.016225   \n",
       "pi_pid_pk               0.000337 -0.076408 -0.071913 -0.065122  0.017395   \n",
       "pi_pid_kpi              0.000205 -0.091511 -0.078869 -0.067860  0.016392   \n",
       "pi_p                    0.006554  0.240740  0.252306  0.235459 -0.029522   \n",
       "\n",
       "                              dz  distance  significanceOfDistance    min_dr  \\\n",
       "p                       0.054952  0.092603                0.083679  0.004258   \n",
       "chiProb                -0.042486 -0.119941               -0.168310 -0.236573   \n",
       "cosa                    0.055720 -0.091779               -0.058194 -0.102286   \n",
       "cosaXY                  0.044107 -0.077032               -0.027375 -0.081685   \n",
       "dr                      0.083095  0.917262                0.590536  0.225710   \n",
       "dz                      1.000000 -0.102104               -0.051546  0.136911   \n",
       "distance               -0.102104  1.000000                0.738298  0.266818   \n",
       "significanceOfDistance -0.051546  0.738298                1.000000  0.496877   \n",
       "min_dr                  0.136911  0.266818                0.496877  1.000000   \n",
       "min_dz                  0.442873 -0.028583               -0.022275  0.028831   \n",
       "p_pid_ppi              -0.033317 -0.112904               -0.133406 -0.202320   \n",
       "p_pid_pk               -0.037681 -0.118498               -0.140881 -0.215819   \n",
       "p_pid_kpi              -0.031364 -0.087369               -0.095325 -0.138999   \n",
       "p_p                    -0.022028 -0.047142               -0.065579 -0.080830   \n",
       "pi_pid_ppi              0.004851  0.026183                0.033901  0.052971   \n",
       "pi_pid_pk               0.007448  0.027483                0.036449  0.049497   \n",
       "pi_pid_kpi              0.007627  0.028014                0.035207  0.059551   \n",
       "pi_p                   -0.005507 -0.023085               -0.051471 -0.046036   \n",
       "\n",
       "                          min_dz  p_pid_ppi  p_pid_pk  p_pid_kpi       p_p  \\\n",
       "p                      -0.003164   0.000165 -0.000048   0.001519  0.007543   \n",
       "chiProb                 0.115834   0.393132  0.403795   0.343237  0.295706   \n",
       "cosa                    0.213708   0.538309  0.549004   0.443508  0.329323   \n",
       "cosaXY                  0.180868   0.505083  0.513671   0.418447  0.313477   \n",
       "dr                     -0.036663  -0.087295 -0.090619  -0.068074 -0.047055   \n",
       "dz                      0.442873  -0.033317 -0.037681  -0.031364 -0.022028   \n",
       "distance               -0.028583  -0.112904 -0.118498  -0.087369 -0.047142   \n",
       "significanceOfDistance -0.022275  -0.133406 -0.140881  -0.095325 -0.065579   \n",
       "min_dr                  0.028831  -0.202320 -0.215819  -0.138999 -0.080830   \n",
       "min_dz                  1.000000   0.118118  0.119074   0.089977  0.073909   \n",
       "p_pid_ppi               0.118118   1.000000  0.936071   0.808766  0.419454   \n",
       "p_pid_pk                0.119074   0.936071  1.000000   0.710813  0.395412   \n",
       "p_pid_kpi               0.089977   0.808766  0.710813   1.000000  0.507478   \n",
       "p_p                     0.073909   0.419454  0.395412   0.507478  1.000000   \n",
       "pi_pid_ppi             -0.029998  -0.100932 -0.109587  -0.072530 -0.051125   \n",
       "pi_pid_pk              -0.026503  -0.093928 -0.096307  -0.068228 -0.025897   \n",
       "pi_pid_kpi             -0.023597  -0.085715 -0.095981  -0.058272 -0.016101   \n",
       "pi_p                    0.056752   0.317890  0.297551   0.368460  0.701125   \n",
       "\n",
       "                        pi_pid_ppi  pi_pid_pk  pi_pid_kpi      pi_p  \n",
       "p                        -0.000135   0.000337    0.000205  0.006554  \n",
       "chiProb                  -0.090101  -0.076408   -0.091511  0.240740  \n",
       "cosa                     -0.087596  -0.071913   -0.078869  0.252306  \n",
       "cosaXY                   -0.077553  -0.065122   -0.067860  0.235459  \n",
       "dr                        0.016225   0.017395    0.016392 -0.029522  \n",
       "dz                        0.004851   0.007448    0.007627 -0.005507  \n",
       "distance                  0.026183   0.027483    0.028014 -0.023085  \n",
       "significanceOfDistance    0.033901   0.036449    0.035207 -0.051471  \n",
       "min_dr                    0.052971   0.049497    0.059551 -0.046036  \n",
       "min_dz                   -0.029998  -0.026503   -0.023597  0.056752  \n",
       "p_pid_ppi                -0.100932  -0.093928   -0.085715  0.317890  \n",
       "p_pid_pk                 -0.109587  -0.096307   -0.095981  0.297551  \n",
       "p_pid_kpi                -0.072530  -0.068228   -0.058272  0.368460  \n",
       "p_p                      -0.051125  -0.025897   -0.016101  0.701125  \n",
       "pi_pid_ppi                1.000000   0.533008    0.858629 -0.023021  \n",
       "pi_pid_pk                 0.533008   1.000000    0.352824 -0.009175  \n",
       "pi_pid_kpi                0.858629   0.352824    1.000000  0.023753  \n",
       "pi_p                     -0.023021  -0.009175    0.023753  1.000000  "
      ]
     },
     "execution_count": 126,
     "metadata": {},
     "output_type": "execute_result"
    }
   ],
   "source": [
    "data[features].corr()"
   ]
  },
  {
   "cell_type": "code",
   "execution_count": 141,
   "metadata": {},
   "outputs": [],
   "source": [
    "import seaborn as sns"
   ]
  },
  {
   "cell_type": "code",
   "execution_count": 142,
   "metadata": {},
   "outputs": [
    {
     "data": {
      "image/png": "[encoded data removed]",
      "text/plain": [
       "<Figure size 1152x576 with 4 Axes>"
      ]
     },
     "metadata": {
      "needs_background": "light"
     },
     "output_type": "display_data"
    }
   ],
   "source": [
    "fig, axes = plt.subplots(1, 2, figsize=(16, 8))\n",
    "for ax, df, title in zip(axes, \n",
    "                         [data[data.isSignal==1], data[data.isSignal==0]],\n",
    "                         ['Signal', 'Background']):\n",
    "    sns.heatmap(df[features].corr(), cmap='bwr', vmin=-1, vmax=1, ax=ax)\n",
    "    ax.set_title(title)\n",
    "    cbar = ax.collections[0].colorbar\n",
    "    cbar.set_ticks(np.arange(-1, 1.1, 0.2))"
   ]
  },
  {
   "cell_type": "code",
   "execution_count": 143,
   "metadata": {},
   "outputs": [
    {
     "data": {
      "text/plain": [
       "<Figure size 432x288 with 0 Axes>"
      ]
     },
     "metadata": {},
     "output_type": "display_data"
    }
   ],
   "source": [
    "plt.tight_layout()\n",
    "fig.savefig('correlation_all.pdf')"
   ]
  },
  {
   "cell_type": "code",
   "execution_count": 129,
   "metadata": {},
   "outputs": [],
   "source": [
    "intern_importance = clf.internFeatureImportance()"
   ]
  },
  {
   "cell_type": "code",
   "execution_count": 130,
   "metadata": {},
   "outputs": [],
   "source": [
    "df_importance = pd.DataFrame(intern_importance.items(), columns=['variable', 'intern'])"
   ]
  },
  {
   "cell_type": "code",
   "execution_count": 131,
   "metadata": {},
   "outputs": [],
   "source": [
    "df_importance.variable = features"
   ]
  },
  {
   "cell_type": "code",
   "execution_count": 132,
   "metadata": {},
   "outputs": [],
   "source": [
    "df_importance = df_importance.sort_values(by='intern')"
   ]
  },
  {
   "cell_type": "code",
   "execution_count": 133,
   "metadata": {},
   "outputs": [
    {
     "data": {
      "text/html": [
       "<div>\n",
       "<style scoped>\n",
       "    .dataframe tbody tr th:only-of-type {\n",
       "        vertical-align: middle;\n",
       "    }\n",
       "\n",
       "    .dataframe tbody tr th {\n",
       "        vertical-align: top;\n",
       "    }\n",
       "\n",
       "    .dataframe thead th {\n",
       "        text-align: right;\n",
       "    }\n",
       "</style>\n",
       "<table border=\"1\" class=\"dataframe\">\n",
       "  <thead>\n",
       "    <tr style=\"text-align: right;\">\n",
       "      <th></th>\n",
       "      <th>variable</th>\n",
       "      <th>intern</th>\n",
       "    </tr>\n",
       "  </thead>\n",
       "  <tbody>\n",
       "    <tr>\n",
       "      <th>16</th>\n",
       "      <td>pi_pid_kpi</td>\n",
       "      <td>0.000354</td>\n",
       "    </tr>\n",
       "    <tr>\n",
       "      <th>9</th>\n",
       "      <td>min_dz</td>\n",
       "      <td>0.000500</td>\n",
       "    </tr>\n",
       "    <tr>\n",
       "      <th>5</th>\n",
       "      <td>dz</td>\n",
       "      <td>0.000691</td>\n",
       "    </tr>\n",
       "    <tr>\n",
       "      <th>17</th>\n",
       "      <td>pi_p</td>\n",
       "      <td>0.000753</td>\n",
       "    </tr>\n",
       "    <tr>\n",
       "      <th>0</th>\n",
       "      <td>p</td>\n",
       "      <td>0.001025</td>\n",
       "    </tr>\n",
       "    <tr>\n",
       "      <th>14</th>\n",
       "      <td>pi_pid_ppi</td>\n",
       "      <td>0.001180</td>\n",
       "    </tr>\n",
       "    <tr>\n",
       "      <th>12</th>\n",
       "      <td>p_pid_kpi</td>\n",
       "      <td>0.003939</td>\n",
       "    </tr>\n",
       "    <tr>\n",
       "      <th>8</th>\n",
       "      <td>min_dr</td>\n",
       "      <td>0.004005</td>\n",
       "    </tr>\n",
       "    <tr>\n",
       "      <th>15</th>\n",
       "      <td>pi_pid_pk</td>\n",
       "      <td>0.004366</td>\n",
       "    </tr>\n",
       "    <tr>\n",
       "      <th>13</th>\n",
       "      <td>p_p</td>\n",
       "      <td>0.004813</td>\n",
       "    </tr>\n",
       "    <tr>\n",
       "      <th>7</th>\n",
       "      <td>significanceOfDistance</td>\n",
       "      <td>0.005332</td>\n",
       "    </tr>\n",
       "    <tr>\n",
       "      <th>4</th>\n",
       "      <td>dr</td>\n",
       "      <td>0.007524</td>\n",
       "    </tr>\n",
       "    <tr>\n",
       "      <th>6</th>\n",
       "      <td>distance</td>\n",
       "      <td>0.007880</td>\n",
       "    </tr>\n",
       "    <tr>\n",
       "      <th>1</th>\n",
       "      <td>chiProb</td>\n",
       "      <td>0.014038</td>\n",
       "    </tr>\n",
       "    <tr>\n",
       "      <th>2</th>\n",
       "      <td>cosa</td>\n",
       "      <td>0.053446</td>\n",
       "    </tr>\n",
       "    <tr>\n",
       "      <th>3</th>\n",
       "      <td>cosaXY</td>\n",
       "      <td>0.076920</td>\n",
       "    </tr>\n",
       "    <tr>\n",
       "      <th>10</th>\n",
       "      <td>p_pid_ppi</td>\n",
       "      <td>0.280545</td>\n",
       "    </tr>\n",
       "    <tr>\n",
       "      <th>11</th>\n",
       "      <td>p_pid_pk</td>\n",
       "      <td>0.532689</td>\n",
       "    </tr>\n",
       "  </tbody>\n",
       "</table>\n",
       "</div>"
      ],
      "text/plain": [
       "                  variable    intern\n",
       "16              pi_pid_kpi  0.000354\n",
       "9                   min_dz  0.000500\n",
       "5                       dz  0.000691\n",
       "17                    pi_p  0.000753\n",
       "0                        p  0.001025\n",
       "14              pi_pid_ppi  0.001180\n",
       "12               p_pid_kpi  0.003939\n",
       "8                   min_dr  0.004005\n",
       "15               pi_pid_pk  0.004366\n",
       "13                     p_p  0.004813\n",
       "7   significanceOfDistance  0.005332\n",
       "4                       dr  0.007524\n",
       "6                 distance  0.007880\n",
       "1                  chiProb  0.014038\n",
       "2                     cosa  0.053446\n",
       "3                   cosaXY  0.076920\n",
       "10               p_pid_ppi  0.280545\n",
       "11                p_pid_pk  0.532689"
      ]
     },
     "execution_count": 133,
     "metadata": {},
     "output_type": "execute_result"
    }
   ],
   "source": [
    "df_importance"
   ]
  },
  {
   "cell_type": "code",
   "execution_count": 134,
   "metadata": {},
   "outputs": [
    {
     "data": {
      "text/plain": [
       "200"
      ]
     },
     "execution_count": 134,
     "metadata": {},
     "output_type": "execute_result"
    }
   ],
   "source": [
    "clf.nTrees"
   ]
  },
  {
   "cell_type": "code",
   "execution_count": 135,
   "metadata": {},
   "outputs": [
    {
     "data": {
      "text/plain": [
       "3"
      ]
     },
     "execution_count": 135,
     "metadata": {},
     "output_type": "execute_result"
    }
   ],
   "source": [
    "clf.depth"
   ]
  },
  {
   "cell_type": "code",
   "execution_count": 139,
   "metadata": {},
   "outputs": [
    {
     "data": {
      "image/png": "[encoded data removed]",
      "text/plain": [
       "<Figure size 576x432 with 1 Axes>"
      ]
     },
     "metadata": {
      "needs_background": "light"
     },
     "output_type": "display_data"
    }
   ],
   "source": [
    "fig, ax = plt.subplots(1, 1, figsize=(8, 6))\n",
    "ax.barh(range(len(df_importance)), df_importance.intern,\n",
    "      tick_label=df_importance.variable)\n",
    "ax.set_title('Internal feature importance')\n",
    "plt.tight_layout()"
   ]
  },
  {
   "cell_type": "code",
   "execution_count": 140,
   "metadata": {},
   "outputs": [],
   "source": [
    "fig.savefig('intern_feature_importance_all.pdf')"
   ]
  },
  {
   "cell_type": "code",
   "execution_count": 154,
   "metadata": {},
   "outputs": [],
   "source": [
    "def train_and_evaluate(train, validation, features, nTrees=200, depth=3):\n",
    "    clf = FastBDT.Classifier(nTrees=nTrees, depth=depth)\n",
    "    clf.fit(train[features], train.isSignal)\n",
    "    train['mva'] = clf.predict(train[features])\n",
    "    validation['mva'] = clf.predict(validation[features])\n",
    "    train_auc = roc_auc_score(train.isSignal, train.mva)\n",
    "    validation_auc = roc_auc_score(validation.isSignal, validation.mva)\n",
    "    return (train_auc, validation_auc)"
   ]
  },
  {
   "cell_type": "code",
   "execution_count": 155,
   "metadata": {},
   "outputs": [
    {
     "name": "stderr",
     "output_type": "stream",
     "text": [
      "/cvmfs/belle.cern.ch/sl6/externals/v01-08-00/Linux_x86_64/common/lib/python3.6/site-packages/ipykernel_launcher.py:4: SettingWithCopyWarning: \n",
      "A value is trying to be set on a copy of a slice from a DataFrame.\n",
      "Try using .loc[row_indexer,col_indexer] = value instead\n",
      "\n",
      "See the caveats in the documentation: http://pandas.pydata.org/pandas-docs/stable/user_guide/indexing.html#returning-a-view-versus-a-copy\n",
      "  after removing the cwd from sys.path.\n",
      "/cvmfs/belle.cern.ch/sl6/externals/v01-08-00/Linux_x86_64/common/lib/python3.6/site-packages/ipykernel_launcher.py:5: SettingWithCopyWarning: \n",
      "A value is trying to be set on a copy of a slice from a DataFrame.\n",
      "Try using .loc[row_indexer,col_indexer] = value instead\n",
      "\n",
      "See the caveats in the documentation: http://pandas.pydata.org/pandas-docs/stable/user_guide/indexing.html#returning-a-view-versus-a-copy\n",
      "  \"\"\"\n"
     ]
    },
    {
     "data": {
      "text/plain": [
       "(0.9963041744174422, 0.9957556010761417)"
      ]
     },
     "execution_count": 155,
     "metadata": {},
     "output_type": "execute_result"
    }
   ],
   "source": [
    "train_and_evaluate(train, validation, features)"
   ]
  },
  {
   "cell_type": "code",
   "execution_count": 164,
   "metadata": {},
   "outputs": [
    {
     "name": "stderr",
     "output_type": "stream",
     "text": [
      "/cvmfs/belle.cern.ch/sl6/externals/v01-08-00/Linux_x86_64/common/lib/python3.6/site-packages/ipykernel_launcher.py:4: SettingWithCopyWarning: \n",
      "A value is trying to be set on a copy of a slice from a DataFrame.\n",
      "Try using .loc[row_indexer,col_indexer] = value instead\n",
      "\n",
      "See the caveats in the documentation: http://pandas.pydata.org/pandas-docs/stable/user_guide/indexing.html#returning-a-view-versus-a-copy\n",
      "  after removing the cwd from sys.path.\n",
      "/cvmfs/belle.cern.ch/sl6/externals/v01-08-00/Linux_x86_64/common/lib/python3.6/site-packages/ipykernel_launcher.py:5: SettingWithCopyWarning: \n",
      "A value is trying to be set on a copy of a slice from a DataFrame.\n",
      "Try using .loc[row_indexer,col_indexer] = value instead\n",
      "\n",
      "See the caveats in the documentation: http://pandas.pydata.org/pandas-docs/stable/user_guide/indexing.html#returning-a-view-versus-a-copy\n",
      "  \"\"\"\n"
     ]
    },
    {
     "data": {
      "text/plain": [
       "(0.9959951031458758, 0.9950646520483061)"
      ]
     },
     "execution_count": 164,
     "metadata": {},
     "output_type": "execute_result"
    }
   ],
   "source": [
    "train_and_evaluate(train, validation, ['p_pid_pk', 'p_pid_ppi', 'cosaXY', 'chiProb', 'dr'], nTrees=800, depth=3)"
   ]
  },
  {
   "cell_type": "code",
   "execution_count": 190,
   "metadata": {},
   "outputs": [
    {
     "data": {
      "text/plain": [
       "<matplotlib.legend.Legend at 0x7f6281fdc320>"
      ]
     },
     "execution_count": 190,
     "metadata": {},
     "output_type": "execute_result"
    },
    {
     "data": {
      "image/png": "[encoded data removed]",
      "text/plain": [
       "<Figure size 576x432 with 1 Axes>"
      ]
     },
     "metadata": {
      "needs_background": "light"
     },
     "output_type": "display_data"
    }
   ],
   "source": [
    "fig, ax = plt.subplots(1, 1, figsize=(8, 6))\n",
    "ax.hist(validation.query('goodBelleLambda >= 1 and p_pid_pk > 0.6 and p_pid_ppi > 0.6').M,\n",
    "        bins=100, range=[1.105, 1.13], histtype='step',\n",
    "        label='goodBelleLambda >= 1');\n",
    "ax.hist(validation.query('mva > 0.96').M,\n",
    "        bins=100, range=[1.105, 1.13], histtype='step',\n",
    "        label='mva');\n",
    "\n",
    "plt.legend()"
   ]
  },
  {
   "cell_type": "code",
   "execution_count": 207,
   "metadata": {},
   "outputs": [
    {
     "data": {
      "image/png": "[encoded data removed]",
      "text/plain": [
       "<Figure size 576x432 with 1 Axes>"
      ]
     },
     "metadata": {
      "needs_background": "light"
     },
     "output_type": "display_data"
    }
   ],
   "source": [
    "fig = plt.figure(figsize=(8, 6))\n",
    "plt.hist(train[train.isSignal == 1].mva, bins=100, histtype='step', density=True, label='train signal')\n",
    "plt.hist(train[train.isSignal == 0].mva, bins=100, histtype='step', density=True, label='train background')\n",
    "plt.hist(validation[validation.isSignal == 1].mva, bins=100, histtype='step', linestyle='--', density=True, label='validation signal')\n",
    "plt.hist(validation[validation.isSignal == 0].mva, bins=100, histtype='step', linestyle='--', density=True, label='validation background')\n",
    "plt.title('MVA classifier output for training and validation set')\n",
    "plt.legend()\n",
    "plt.ylabel('Normalized density')\n",
    "plt.xlabel('MVA classifier output')\n",
    "plt.show()"
   ]
  },
  {
   "cell_type": "code",
   "execution_count": 208,
   "metadata": {},
   "outputs": [],
   "source": [
    "fig.savefig('mva_output_dist.pdf')"
   ]
  },
  {
   "cell_type": "code",
   "execution_count": 210,
   "metadata": {},
   "outputs": [
    {
     "data": {
      "text/plain": [
       "<matplotlib.legend.Legend at 0x7f627cf797b8>"
      ]
     },
     "execution_count": 210,
     "metadata": {},
     "output_type": "execute_result"
    },
    {
     "data": {
      "image/png": "[encoded data removed]",
      "text/plain": [
       "<Figure size 576x432 with 1 Axes>"
      ]
     },
     "metadata": {
      "needs_background": "light"
     },
     "output_type": "display_data"
    }
   ],
   "source": [
    "fig, ax = plt.subplots(1, 1, figsize=(8, 6))\n",
    "ax.hist(validation.query('goodBelleLambda >= 1 and p_pid_pk > 0.6 and p_pid_ppi > 0.6').M,\n",
    "        bins=100, range=[1.105, 1.13], histtype='step',\n",
    "        label='goodBelleLambda >= 1');\n",
    "\n",
    "ax.hist(validation.query('goodBelleLambda >= 2 and p_pid_pk > 0.6 and p_pid_ppi > 0.6').M,\n",
    "        bins=100, range=[1.105, 1.13], histtype='step',\n",
    "        label='goodBelleLambda >= 2');\n",
    "\n",
    "ax.hist(validation.query('mva > 0.96').M,\n",
    "        bins=100, range=[1.105, 1.13], histtype='step',\n",
    "        label='mva');\n",
    "\n",
    "plt.legend()"
   ]
  },
  {
   "cell_type": "code",
   "execution_count": null,
   "metadata": {},
   "outputs": [],
   "source": []
  }
 ],
 "metadata": {
  "kernelspec": {
   "display_name": "Python 3 (Belle2)",
   "language": "python",
   "name": "python3"
  },
  "language_info": {
   "codemirror_mode": {
    "name": "ipython",
    "version": 3
   },
   "file_extension": ".py",
   "mimetype": "text/x-python",
   "name": "python",
   "nbconvert_exporter": "python",
   "pygments_lexer": "ipython3",
   "version": "3.6.9"
  }
 },
 "nbformat": 4,
 "nbformat_minor": 4
}
